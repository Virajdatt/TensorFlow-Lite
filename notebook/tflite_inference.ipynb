{
 "cells": [
  {
   "cell_type": "code",
   "execution_count": 4,
   "source": [
    "import tensorflow as tf\n",
    "import PIL.Image as Image\n",
    "import numpy as np"
   ],
   "outputs": [],
   "metadata": {}
  },
  {
   "cell_type": "code",
   "execution_count": 2,
   "source": [
    "interpreter = tf.lite.Interpreter(model_path='../models/mvnet_converted.tflite')"
   ],
   "outputs": [],
   "metadata": {}
  },
  {
   "cell_type": "code",
   "execution_count": 3,
   "source": [
    "print(\"== Input details ==\")\n",
    "print(\"name:\", interpreter.get_input_details()[0]['name'])\n",
    "print(\"shape:\", interpreter.get_input_details()[0]['shape'])\n",
    "print(\"type:\", interpreter.get_input_details()[0]['dtype'])\n",
    "\n",
    "print(\"\\n== Output details ==\")\n",
    "print(\"name:\", interpreter.get_output_details()[0]['name'])\n",
    "print(\"shape:\", interpreter.get_output_details()[0]['shape'])\n",
    "print(\"type:\", interpreter.get_output_details()[0]['dtype'])\n",
    "\n",
    "print(\"\\nDUMP INPUT\")\n",
    "print(interpreter.get_input_details()[0])\n",
    "print(\"\\nDUMP OUTPUT\")\n",
    "print(interpreter.get_output_details()[0])"
   ],
   "outputs": [
    {
     "output_type": "stream",
     "name": "stdout",
     "text": [
      "== Input details ==\n",
      "name: keras_layer_input\n",
      "shape: [  1 224 224   3]\n",
      "type: <class 'numpy.float32'>\n",
      "\n",
      "== Output details ==\n",
      "name: Identity\n",
      "shape: [   1 1001]\n",
      "type: <class 'numpy.float32'>\n",
      "\n",
      "DUMP INPUT\n",
      "{'name': 'keras_layer_input', 'index': 0, 'shape': array([  1, 224, 224,   3], dtype=int32), 'shape_signature': array([ -1, 224, 224,   3], dtype=int32), 'dtype': <class 'numpy.float32'>, 'quantization': (0.0, 0), 'quantization_parameters': {'scales': array([], dtype=float32), 'zero_points': array([], dtype=int32), 'quantized_dimension': 0}, 'sparsity_parameters': {}}\n",
      "\n",
      "DUMP OUTPUT\n",
      "{'name': 'Identity', 'index': 176, 'shape': array([   1, 1001], dtype=int32), 'shape_signature': array([  -1, 1001], dtype=int32), 'dtype': <class 'numpy.float32'>, 'quantization': (0.0, 0), 'quantization_parameters': {'scales': array([], dtype=float32), 'zero_points': array([], dtype=int32), 'quantized_dimension': 0}, 'sparsity_parameters': {}}\n"
     ]
    }
   ],
   "metadata": {}
  },
  {
   "cell_type": "code",
   "execution_count": 7,
   "source": [
    "def preprocess_inference_image(img: str):\n",
    "    IMAGE_SHAPE = (224, 224)\n",
    "    img = Image.open(img).resize(IMAGE_SHAPE)\n",
    "    img = np.array(img)/255.0\n",
    "    #img = preprocess_inference_image('../sample_image.png')\n",
    "    print('Old shape', img.shape)\n",
    "    img_expanded = img[np.newaxis, ...]\n",
    "    print('New shape', img_expanded.shape)\n",
    "    return img_expanded"
   ],
   "outputs": [],
   "metadata": {}
  },
  {
   "cell_type": "code",
   "execution_count": 8,
   "source": [
    "example_img_for_tflite = preprocess_inference_image('../image02.png')"
   ],
   "outputs": [
    {
     "output_type": "stream",
     "name": "stdout",
     "text": [
      "Old shape (224, 224, 3)\n",
      "New shape (1, 224, 224, 3)\n"
     ]
    }
   ],
   "metadata": {}
  },
  {
   "cell_type": "code",
   "execution_count": 13,
   "source": [
    "interpreter.allocate_tensors()\n",
    "print(\"Input data shape:\", example_img_for_tflite.shape)\n",
    "example_img_for_tflite = np.array(example_img_for_tflite, dtype=np.float32)\n",
    "print(\"Input data type:\", example_img_for_tflite.dtype)\n",
    "\n",
    "input_details = interpreter.get_input_details()\n",
    "interpreter.set_tensor(input_details[0]['index'], example_img_for_tflite)\n",
    "\n",
    "interpreter.invoke()\n",
    "\n",
    "labels_path = '../ImageNetLabels.txt'\n",
    "imagenet_labels = np.array(open(labels_path).read().splitlines())\n",
    "\n",
    "output_details = interpreter.get_output_details()\n",
    "output_data = interpreter.get_tensor(output_details[0]['index'])\n",
    "print(\"\\n\\nPrediction results:\", output_data)\n",
    "print(\"Predicted value:\", np.argmax(output_data))\n",
    "print(\"Predicted label:\", imagenet_labels[np.argmax(output_data)])\n",
    "\n"
   ],
   "outputs": [
    {
     "output_type": "stream",
     "name": "stdout",
     "text": [
      "Input data shape: (1, 224, 224, 3)\n",
      "Input data type: float32\n",
      "\n",
      "\n",
      "Prediction results: [[ 0.15102446  0.13678665  0.5798025  ...  0.13791749 -0.2675998\n",
      "   1.5221497 ]]\n",
      "Predicted value: 208\n",
      "Predicted label: golden retriever\n"
     ]
    }
   ],
   "metadata": {}
  },
  {
   "cell_type": "code",
   "execution_count": null,
   "source": [],
   "outputs": [],
   "metadata": {}
  }
 ],
 "metadata": {
  "orig_nbformat": 4,
  "language_info": {
   "name": "python",
   "version": "3.9.7",
   "mimetype": "text/x-python",
   "codemirror_mode": {
    "name": "ipython",
    "version": 3
   },
   "pygments_lexer": "ipython3",
   "nbconvert_exporter": "python",
   "file_extension": ".py"
  },
  "kernelspec": {
   "name": "python3",
   "display_name": "Python 3.9.7 64-bit ('base': conda)"
  },
  "interpreter": {
   "hash": "9856851bd649d589f665b7dab82e57037201f90d2f14c285519476a7544379c3"
  }
 },
 "nbformat": 4,
 "nbformat_minor": 2
}